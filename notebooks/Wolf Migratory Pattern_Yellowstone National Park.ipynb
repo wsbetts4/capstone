{
 "cells": [
  {
   "cell_type": "code",
   "execution_count": 1,
   "id": "german-nylon",
   "metadata": {},
   "outputs": [],
   "source": [
    "import pandas as pd\n",
    "import geopandas as gpd\n",
    "import math"
   ]
  },
  {
   "cell_type": "code",
   "execution_count": 2,
   "id": "hydraulic-competition",
   "metadata": {},
   "outputs": [],
   "source": [
    "wolf_data = pd.read_csv('../data/Cusack_et_al_Wolf_data_2004_2016.csv')"
   ]
  },
  {
   "cell_type": "code",
   "execution_count": 3,
   "id": "similar-blind",
   "metadata": {},
   "outputs": [
    {
     "data": {
      "text/plain": [
       "pandas.core.frame.DataFrame"
      ]
     },
     "execution_count": 3,
     "metadata": {},
     "output_type": "execute_result"
    }
   ],
   "source": [
    "type(wolf_data)"
   ]
  },
  {
   "cell_type": "code",
   "execution_count": 4,
   "id": "alternative-wednesday",
   "metadata": {},
   "outputs": [
    {
     "data": {
      "text/html": [
       "<div>\n",
       "<style scoped>\n",
       "    .dataframe tbody tr th:only-of-type {\n",
       "        vertical-align: middle;\n",
       "    }\n",
       "\n",
       "    .dataframe tbody tr th {\n",
       "        vertical-align: top;\n",
       "    }\n",
       "\n",
       "    .dataframe thead th {\n",
       "        text-align: right;\n",
       "    }\n",
       "</style>\n",
       "<table border=\"1\" class=\"dataframe\">\n",
       "  <thead>\n",
       "    <tr style=\"text-align: right;\">\n",
       "      <th></th>\n",
       "      <th>Wolf_ID</th>\n",
       "      <th>Pack</th>\n",
       "      <th>Easting</th>\n",
       "      <th>Northing</th>\n",
       "      <th>DateTime</th>\n",
       "      <th>Winter</th>\n",
       "    </tr>\n",
       "  </thead>\n",
       "  <tbody>\n",
       "    <tr>\n",
       "      <th>0</th>\n",
       "      <td>380F</td>\n",
       "      <td>SLOUGH CREEK</td>\n",
       "      <td>557939</td>\n",
       "      <td>4978011</td>\n",
       "      <td>20/01/04 20:01</td>\n",
       "      <td>2003</td>\n",
       "    </tr>\n",
       "    <tr>\n",
       "      <th>1</th>\n",
       "      <td>380F</td>\n",
       "      <td>SLOUGH CREEK</td>\n",
       "      <td>561583</td>\n",
       "      <td>4981570</td>\n",
       "      <td>21/01/04 02:01</td>\n",
       "      <td>2003</td>\n",
       "    </tr>\n",
       "    <tr>\n",
       "      <th>2</th>\n",
       "      <td>380F</td>\n",
       "      <td>SLOUGH CREEK</td>\n",
       "      <td>557152</td>\n",
       "      <td>4978797</td>\n",
       "      <td>21/01/04 08:01</td>\n",
       "      <td>2003</td>\n",
       "    </tr>\n",
       "    <tr>\n",
       "      <th>3</th>\n",
       "      <td>380F</td>\n",
       "      <td>SLOUGH CREEK</td>\n",
       "      <td>559197</td>\n",
       "      <td>4978409</td>\n",
       "      <td>21/01/04 11:00</td>\n",
       "      <td>2003</td>\n",
       "    </tr>\n",
       "    <tr>\n",
       "      <th>4</th>\n",
       "      <td>380F</td>\n",
       "      <td>SLOUGH CREEK</td>\n",
       "      <td>559099</td>\n",
       "      <td>4979770</td>\n",
       "      <td>21/01/04 14:01</td>\n",
       "      <td>2003</td>\n",
       "    </tr>\n",
       "  </tbody>\n",
       "</table>\n",
       "</div>"
      ],
      "text/plain": [
       "  Wolf_ID          Pack  Easting  Northing        DateTime  Winter\n",
       "0    380F  SLOUGH CREEK   557939   4978011  20/01/04 20:01    2003\n",
       "1    380F  SLOUGH CREEK   561583   4981570  21/01/04 02:01    2003\n",
       "2    380F  SLOUGH CREEK   557152   4978797  21/01/04 08:01    2003\n",
       "3    380F  SLOUGH CREEK   559197   4978409  21/01/04 11:00    2003\n",
       "4    380F  SLOUGH CREEK   559099   4979770  21/01/04 14:01    2003"
      ]
     },
     "execution_count": 4,
     "metadata": {},
     "output_type": "execute_result"
    }
   ],
   "source": [
    "wolf_data.head()"
   ]
  },
  {
   "cell_type": "code",
   "execution_count": 5,
   "id": "architectural-encyclopedia",
   "metadata": {},
   "outputs": [],
   "source": [
    "def lat_long(zone, easting, northing, northernHemisphere=True):\n",
    "    if not northernHemisphere:\n",
    "        northing = 10000000 - northing\n",
    "\n",
    "    a = 6378137\n",
    "    e = 0.081819191\n",
    "    e1sq = 0.006739497\n",
    "    k0 = 0.9996\n",
    "\n",
    "    arc = northing / k0\n",
    "    mu = arc / (a * (1 - math.pow(e, 2) / 4.0 - 3 * math.pow(e, 4) / 64.0 - 5 * math.pow(e, 6) / 256.0))\n",
    "\n",
    "    ei = (1 - math.pow((1 - e * e), (1 / 2.0))) / (1 + math.pow((1 - e * e), (1 / 2.0)))\n",
    "\n",
    "    ca = 3 * ei / 2 - 27 * math.pow(ei, 3) / 32.0\n",
    "\n",
    "    cb = 21 * math.pow(ei, 2) / 16 - 55 * math.pow(ei, 4) / 32\n",
    "    cc = 151 * math.pow(ei, 3) / 96\n",
    "    cd = 1097 * math.pow(ei, 4) / 512\n",
    "    phi1 = mu + ca * math.sin(2 * mu) + cb * math.sin(4 * mu) + cc * math.sin(6 * mu) + cd * math.sin(8 * mu)\n",
    "\n",
    "    n0 = a / math.pow((1 - math.pow((e * math.sin(phi1)), 2)), (1 / 2.0))\n",
    "\n",
    "    r0 = a * (1 - e * e) / math.pow((1 - math.pow((e * math.sin(phi1)), 2)), (3 / 2.0))\n",
    "    fact1 = n0 * math.tan(phi1) / r0\n",
    "\n",
    "    _a1 = 500000 - easting\n",
    "    dd0 = _a1 / (n0 * k0)\n",
    "    fact2 = dd0 * dd0 / 2\n",
    "\n",
    "    t0 = math.pow(math.tan(phi1), 2)\n",
    "    Q0 = e1sq * math.pow(math.cos(phi1), 2)\n",
    "    fact3 = (5 + 3 * t0 + 10 * Q0 - 4 * Q0 * Q0 - 9 * e1sq) * math.pow(dd0, 4) / 24\n",
    "\n",
    "    fact4 = (61 + 90 * t0 + 298 * Q0 + 45 * t0 * t0 - 252 * e1sq - 3 * Q0 * Q0) * math.pow(dd0, 6) / 720\n",
    "\n",
    "    lof1 = _a1 / (n0 * k0)\n",
    "    lof2 = (1 + 2 * t0 + Q0) * math.pow(dd0, 3) / 6.0\n",
    "    lof3 = (5 - 2 * Q0 + 28 * t0 - 3 * math.pow(Q0, 2) + 8 * e1sq + 24 * math.pow(t0, 2)) * math.pow(dd0, 5) / 120\n",
    "    _a2 = (lof1 - lof2 + lof3) / math.cos(phi1)\n",
    "    _a3 = _a2 * 180 / math.pi\n",
    "\n",
    "    latitude = 180 * (phi1 - fact1 * (fact2 + fact3 + fact4)) / math.pi\n",
    "\n",
    "    if not northernHemisphere:\n",
    "        latitude = -latitude\n",
    "\n",
    "    longitude = ((zone > 0) and (6 * zone - 183.0) or 3.0) - _a3\n",
    "\n",
    "    return (latitude, longitude)"
   ]
  },
  {
   "cell_type": "code",
   "execution_count": 6,
   "id": "parallel-tenant",
   "metadata": {},
   "outputs": [],
   "source": [
    "easting = pd.Series(wolf_data['Easting']).astype(float)\n",
    "northing = pd.Series(wolf_data['Northing']).astype(float)"
   ]
  },
  {
   "cell_type": "code",
   "execution_count": 7,
   "id": "comparative-supply",
   "metadata": {},
   "outputs": [
    {
     "data": {
      "text/plain": [
       "(44.9531733047184, -110.26547431519953)"
      ]
     },
     "execution_count": 7,
     "metadata": {},
     "output_type": "execute_result"
    }
   ],
   "source": [
    "lat_long(12, easting.iloc[0], northing.iloc[0])"
   ]
  },
  {
   "cell_type": "code",
   "execution_count": 8,
   "id": "military-template",
   "metadata": {},
   "outputs": [],
   "source": [
    "coors_full = list()\n",
    "for x in range (0,81712):\n",
    "    coors = lat_long(12, easting.iloc[x], northing.iloc[x])\n",
    "    coors_full.append(coors)\n",
    "\n",
    "    \n",
    "    "
   ]
  },
  {
   "cell_type": "code",
   "execution_count": 9,
   "id": "pleasant-tuesday",
   "metadata": {},
   "outputs": [],
   "source": [
    "wolf_data['Coordinates'] = coors_full"
   ]
  },
  {
   "cell_type": "code",
   "execution_count": 10,
   "id": "returning-intranet",
   "metadata": {},
   "outputs": [
    {
     "data": {
      "text/html": [
       "<div>\n",
       "<style scoped>\n",
       "    .dataframe tbody tr th:only-of-type {\n",
       "        vertical-align: middle;\n",
       "    }\n",
       "\n",
       "    .dataframe tbody tr th {\n",
       "        vertical-align: top;\n",
       "    }\n",
       "\n",
       "    .dataframe thead th {\n",
       "        text-align: right;\n",
       "    }\n",
       "</style>\n",
       "<table border=\"1\" class=\"dataframe\">\n",
       "  <thead>\n",
       "    <tr style=\"text-align: right;\">\n",
       "      <th></th>\n",
       "      <th>Wolf_ID</th>\n",
       "      <th>Pack</th>\n",
       "      <th>Easting</th>\n",
       "      <th>Northing</th>\n",
       "      <th>DateTime</th>\n",
       "      <th>Winter</th>\n",
       "      <th>Coordinates</th>\n",
       "    </tr>\n",
       "  </thead>\n",
       "  <tbody>\n",
       "    <tr>\n",
       "      <th>81707</th>\n",
       "      <td>1015M</td>\n",
       "      <td>MOLLIE'S</td>\n",
       "      <td>562336</td>\n",
       "      <td>4938461</td>\n",
       "      <td>8/3/2016 5:25</td>\n",
       "      <td>2015</td>\n",
       "      <td>(44.59679451651816, -110.21457696846869)</td>\n",
       "    </tr>\n",
       "    <tr>\n",
       "      <th>81708</th>\n",
       "      <td>1015M</td>\n",
       "      <td>MOLLIE'S</td>\n",
       "      <td>558388</td>\n",
       "      <td>4935844</td>\n",
       "      <td>10/3/2016 5:00</td>\n",
       "      <td>2015</td>\n",
       "      <td>(44.573568021056744, -110.26461395333378)</td>\n",
       "    </tr>\n",
       "    <tr>\n",
       "      <th>81709</th>\n",
       "      <td>1015M</td>\n",
       "      <td>MOLLIE'S</td>\n",
       "      <td>558519</td>\n",
       "      <td>4935916</td>\n",
       "      <td>13/03/16 05:00</td>\n",
       "      <td>2015</td>\n",
       "      <td>(44.57420551734549, -110.26295598163186)</td>\n",
       "    </tr>\n",
       "    <tr>\n",
       "      <th>81710</th>\n",
       "      <td>1015M</td>\n",
       "      <td>MOLLIE'S</td>\n",
       "      <td>562167</td>\n",
       "      <td>4938638</td>\n",
       "      <td>16/03/16 05:01</td>\n",
       "      <td>2015</td>\n",
       "      <td>(44.598402447888716, -110.21668473444326)</td>\n",
       "    </tr>\n",
       "    <tr>\n",
       "      <th>81711</th>\n",
       "      <td>1015M</td>\n",
       "      <td>MOLLIE'S</td>\n",
       "      <td>558879</td>\n",
       "      <td>4936177</td>\n",
       "      <td>19/03/16 05:00</td>\n",
       "      <td>2015</td>\n",
       "      <td>(44.57652564284465, -110.25839231396562)</td>\n",
       "    </tr>\n",
       "  </tbody>\n",
       "</table>\n",
       "</div>"
      ],
      "text/plain": [
       "      Wolf_ID      Pack  Easting  Northing        DateTime  Winter  \\\n",
       "81707   1015M  MOLLIE'S   562336   4938461   8/3/2016 5:25    2015   \n",
       "81708   1015M  MOLLIE'S   558388   4935844  10/3/2016 5:00    2015   \n",
       "81709   1015M  MOLLIE'S   558519   4935916  13/03/16 05:00    2015   \n",
       "81710   1015M  MOLLIE'S   562167   4938638  16/03/16 05:01    2015   \n",
       "81711   1015M  MOLLIE'S   558879   4936177  19/03/16 05:00    2015   \n",
       "\n",
       "                                     Coordinates  \n",
       "81707   (44.59679451651816, -110.21457696846869)  \n",
       "81708  (44.573568021056744, -110.26461395333378)  \n",
       "81709   (44.57420551734549, -110.26295598163186)  \n",
       "81710  (44.598402447888716, -110.21668473444326)  \n",
       "81711   (44.57652564284465, -110.25839231396562)  "
      ]
     },
     "execution_count": 10,
     "metadata": {},
     "output_type": "execute_result"
    }
   ],
   "source": [
    "wolf_data.tail()"
   ]
  },
  {
   "cell_type": "code",
   "execution_count": 11,
   "id": "congressional-reminder",
   "metadata": {},
   "outputs": [
    {
     "ename": "PermissionError",
     "evalue": "[Errno 13] Permission denied: '../data/wolf_data.csv'",
     "output_type": "error",
     "traceback": [
      "\u001b[1;31m---------------------------------------------------------------------------\u001b[0m",
      "\u001b[1;31mPermissionError\u001b[0m                           Traceback (most recent call last)",
      "\u001b[1;32m<ipython-input-11-4d9e341a2bb6>\u001b[0m in \u001b[0;36m<module>\u001b[1;34m\u001b[0m\n\u001b[1;32m----> 1\u001b[1;33m \u001b[0mwolf_data\u001b[0m\u001b[1;33m.\u001b[0m\u001b[0mto_csv\u001b[0m\u001b[1;33m(\u001b[0m\u001b[1;34m'../data/wolf_data.csv'\u001b[0m\u001b[1;33m,\u001b[0m \u001b[0mindex\u001b[0m \u001b[1;33m=\u001b[0m \u001b[1;32mFalse\u001b[0m\u001b[1;33m)\u001b[0m\u001b[1;33m\u001b[0m\u001b[1;33m\u001b[0m\u001b[0m\n\u001b[0m\u001b[0;32m      2\u001b[0m \u001b[1;33m\u001b[0m\u001b[0m\n",
      "\u001b[1;32m~\\Anaconda3\\envs\\geospatial\\lib\\site-packages\\pandas\\core\\generic.py\u001b[0m in \u001b[0;36mto_csv\u001b[1;34m(self, path_or_buf, sep, na_rep, float_format, columns, header, index, index_label, mode, encoding, compression, quoting, quotechar, line_terminator, chunksize, date_format, doublequote, escapechar, decimal, errors, storage_options)\u001b[0m\n\u001b[0;32m   3385\u001b[0m         )\n\u001b[0;32m   3386\u001b[0m \u001b[1;33m\u001b[0m\u001b[0m\n\u001b[1;32m-> 3387\u001b[1;33m         return DataFrameRenderer(formatter).to_csv(\n\u001b[0m\u001b[0;32m   3388\u001b[0m             \u001b[0mpath_or_buf\u001b[0m\u001b[1;33m,\u001b[0m\u001b[1;33m\u001b[0m\u001b[1;33m\u001b[0m\u001b[0m\n\u001b[0;32m   3389\u001b[0m             \u001b[0mline_terminator\u001b[0m\u001b[1;33m=\u001b[0m\u001b[0mline_terminator\u001b[0m\u001b[1;33m,\u001b[0m\u001b[1;33m\u001b[0m\u001b[1;33m\u001b[0m\u001b[0m\n",
      "\u001b[1;32m~\\Anaconda3\\envs\\geospatial\\lib\\site-packages\\pandas\\io\\formats\\format.py\u001b[0m in \u001b[0;36mto_csv\u001b[1;34m(self, path_or_buf, encoding, sep, columns, index_label, mode, compression, quoting, quotechar, line_terminator, chunksize, date_format, doublequote, escapechar, errors, storage_options)\u001b[0m\n\u001b[0;32m   1081\u001b[0m             \u001b[0mformatter\u001b[0m\u001b[1;33m=\u001b[0m\u001b[0mself\u001b[0m\u001b[1;33m.\u001b[0m\u001b[0mfmt\u001b[0m\u001b[1;33m,\u001b[0m\u001b[1;33m\u001b[0m\u001b[1;33m\u001b[0m\u001b[0m\n\u001b[0;32m   1082\u001b[0m         )\n\u001b[1;32m-> 1083\u001b[1;33m         \u001b[0mcsv_formatter\u001b[0m\u001b[1;33m.\u001b[0m\u001b[0msave\u001b[0m\u001b[1;33m(\u001b[0m\u001b[1;33m)\u001b[0m\u001b[1;33m\u001b[0m\u001b[1;33m\u001b[0m\u001b[0m\n\u001b[0m\u001b[0;32m   1084\u001b[0m \u001b[1;33m\u001b[0m\u001b[0m\n\u001b[0;32m   1085\u001b[0m         \u001b[1;32mif\u001b[0m \u001b[0mcreated_buffer\u001b[0m\u001b[1;33m:\u001b[0m\u001b[1;33m\u001b[0m\u001b[1;33m\u001b[0m\u001b[0m\n",
      "\u001b[1;32m~\\Anaconda3\\envs\\geospatial\\lib\\site-packages\\pandas\\io\\formats\\csvs.py\u001b[0m in \u001b[0;36msave\u001b[1;34m(self)\u001b[0m\n\u001b[0;32m    226\u001b[0m         \"\"\"\n\u001b[0;32m    227\u001b[0m         \u001b[1;31m# apply compression and byte/text conversion\u001b[0m\u001b[1;33m\u001b[0m\u001b[1;33m\u001b[0m\u001b[1;33m\u001b[0m\u001b[0m\n\u001b[1;32m--> 228\u001b[1;33m         with get_handle(\n\u001b[0m\u001b[0;32m    229\u001b[0m             \u001b[0mself\u001b[0m\u001b[1;33m.\u001b[0m\u001b[0mfilepath_or_buffer\u001b[0m\u001b[1;33m,\u001b[0m\u001b[1;33m\u001b[0m\u001b[1;33m\u001b[0m\u001b[0m\n\u001b[0;32m    230\u001b[0m             \u001b[0mself\u001b[0m\u001b[1;33m.\u001b[0m\u001b[0mmode\u001b[0m\u001b[1;33m,\u001b[0m\u001b[1;33m\u001b[0m\u001b[1;33m\u001b[0m\u001b[0m\n",
      "\u001b[1;32m~\\Anaconda3\\envs\\geospatial\\lib\\site-packages\\pandas\\io\\common.py\u001b[0m in \u001b[0;36mget_handle\u001b[1;34m(path_or_buf, mode, encoding, compression, memory_map, is_text, errors, storage_options)\u001b[0m\n\u001b[0;32m    640\u001b[0m                 \u001b[0merrors\u001b[0m \u001b[1;33m=\u001b[0m \u001b[1;34m\"replace\"\u001b[0m\u001b[1;33m\u001b[0m\u001b[1;33m\u001b[0m\u001b[0m\n\u001b[0;32m    641\u001b[0m             \u001b[1;31m# Encoding\u001b[0m\u001b[1;33m\u001b[0m\u001b[1;33m\u001b[0m\u001b[1;33m\u001b[0m\u001b[0m\n\u001b[1;32m--> 642\u001b[1;33m             handle = open(\n\u001b[0m\u001b[0;32m    643\u001b[0m                 \u001b[0mhandle\u001b[0m\u001b[1;33m,\u001b[0m\u001b[1;33m\u001b[0m\u001b[1;33m\u001b[0m\u001b[0m\n\u001b[0;32m    644\u001b[0m                 \u001b[0mioargs\u001b[0m\u001b[1;33m.\u001b[0m\u001b[0mmode\u001b[0m\u001b[1;33m,\u001b[0m\u001b[1;33m\u001b[0m\u001b[1;33m\u001b[0m\u001b[0m\n",
      "\u001b[1;31mPermissionError\u001b[0m: [Errno 13] Permission denied: '../data/wolf_data.csv'"
     ]
    }
   ],
   "source": [
    "wolf_data.to_csv('../data/wolf_data.csv', index = False)\n",
    " "
   ]
  },
  {
   "cell_type": "code",
   "execution_count": null,
   "id": "finished-truth",
   "metadata": {},
   "outputs": [],
   "source": [
    "coors_df = pd.DataFrame(coors_full)"
   ]
  },
  {
   "cell_type": "code",
   "execution_count": 16,
   "id": "facial-toronto",
   "metadata": {},
   "outputs": [
    {
     "data": {
      "text/plain": [
       "count      59.000000\n",
       "mean     1384.949153\n",
       "std      1379.428510\n",
       "min         5.000000\n",
       "25%       254.000000\n",
       "50%      1018.000000\n",
       "75%      1946.500000\n",
       "max      6616.000000\n",
       "Name: Wolf_ID, dtype: float64"
      ]
     },
     "execution_count": 16,
     "metadata": {},
     "output_type": "execute_result"
    }
   ],
   "source": [
    "wolf_ids = wolf_data['Wolf_ID'].value_counts()\n",
    "wolf_ids.describe()"
   ]
  },
  {
   "cell_type": "code",
   "execution_count": null,
   "id": "backed-advice",
   "metadata": {},
   "outputs": [],
   "source": []
  }
 ],
 "metadata": {
  "kernelspec": {
   "display_name": "Python 3",
   "language": "python",
   "name": "python3"
  },
  "language_info": {
   "codemirror_mode": {
    "name": "ipython",
    "version": 3
   },
   "file_extension": ".py",
   "mimetype": "text/x-python",
   "name": "python",
   "nbconvert_exporter": "python",
   "pygments_lexer": "ipython3",
   "version": "3.8.5"
  }
 },
 "nbformat": 4,
 "nbformat_minor": 5
}
