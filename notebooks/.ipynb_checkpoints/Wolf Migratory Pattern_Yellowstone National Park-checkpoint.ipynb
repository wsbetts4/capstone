{
 "cells": [
  {
   "cell_type": "code",
   "execution_count": null,
   "id": "german-nylon",
   "metadata": {},
   "outputs": [],
   "source": [
    "import pandas as pd\n",
    "import geopandas as gpd\n",
    "import math"
   ]
  },
  {
   "cell_type": "code",
   "execution_count": null,
   "id": "hydraulic-competition",
   "metadata": {},
   "outputs": [],
   "source": [
    "wolf_data = pd.read_csv('../data/Cusack_et_al_Wolf_data_2004_2016.csv')"
   ]
  },
  {
   "cell_type": "code",
   "execution_count": null,
   "id": "similar-blind",
   "metadata": {},
   "outputs": [],
   "source": [
    "type(wolf_data)"
   ]
  },
  {
   "cell_type": "code",
   "execution_count": null,
   "id": "alternative-wednesday",
   "metadata": {},
   "outputs": [],
   "source": [
    "wolf_data.head()"
   ]
  },
  {
   "cell_type": "code",
   "execution_count": null,
   "id": "architectural-encyclopedia",
   "metadata": {},
   "outputs": [],
   "source": [
    "def lat_long(zone, easting, northing, northernHemisphere=True):\n",
    "    if not northernHemisphere:\n",
    "        northing = 10000000 - northing\n",
    "\n",
    "    a = 6378137\n",
    "    e = 0.081819191\n",
    "    e1sq = 0.006739497\n",
    "    k0 = 0.9996\n",
    "\n",
    "    arc = northing / k0\n",
    "    mu = arc / (a * (1 - math.pow(e, 2) / 4.0 - 3 * math.pow(e, 4) / 64.0 - 5 * math.pow(e, 6) / 256.0))\n",
    "\n",
    "    ei = (1 - math.pow((1 - e * e), (1 / 2.0))) / (1 + math.pow((1 - e * e), (1 / 2.0)))\n",
    "\n",
    "    ca = 3 * ei / 2 - 27 * math.pow(ei, 3) / 32.0\n",
    "\n",
    "    cb = 21 * math.pow(ei, 2) / 16 - 55 * math.pow(ei, 4) / 32\n",
    "    cc = 151 * math.pow(ei, 3) / 96\n",
    "    cd = 1097 * math.pow(ei, 4) / 512\n",
    "    phi1 = mu + ca * math.sin(2 * mu) + cb * math.sin(4 * mu) + cc * math.sin(6 * mu) + cd * math.sin(8 * mu)\n",
    "\n",
    "    n0 = a / math.pow((1 - math.pow((e * math.sin(phi1)), 2)), (1 / 2.0))\n",
    "\n",
    "    r0 = a * (1 - e * e) / math.pow((1 - math.pow((e * math.sin(phi1)), 2)), (3 / 2.0))\n",
    "    fact1 = n0 * math.tan(phi1) / r0\n",
    "\n",
    "    _a1 = 500000 - easting\n",
    "    dd0 = _a1 / (n0 * k0)\n",
    "    fact2 = dd0 * dd0 / 2\n",
    "\n",
    "    t0 = math.pow(math.tan(phi1), 2)\n",
    "    Q0 = e1sq * math.pow(math.cos(phi1), 2)\n",
    "    fact3 = (5 + 3 * t0 + 10 * Q0 - 4 * Q0 * Q0 - 9 * e1sq) * math.pow(dd0, 4) / 24\n",
    "\n",
    "    fact4 = (61 + 90 * t0 + 298 * Q0 + 45 * t0 * t0 - 252 * e1sq - 3 * Q0 * Q0) * math.pow(dd0, 6) / 720\n",
    "\n",
    "    lof1 = _a1 / (n0 * k0)\n",
    "    lof2 = (1 + 2 * t0 + Q0) * math.pow(dd0, 3) / 6.0\n",
    "    lof3 = (5 - 2 * Q0 + 28 * t0 - 3 * math.pow(Q0, 2) + 8 * e1sq + 24 * math.pow(t0, 2)) * math.pow(dd0, 5) / 120\n",
    "    _a2 = (lof1 - lof2 + lof3) / math.cos(phi1)\n",
    "    _a3 = _a2 * 180 / math.pi\n",
    "\n",
    "    latitude = 180 * (phi1 - fact1 * (fact2 + fact3 + fact4)) / math.pi\n",
    "\n",
    "    if not northernHemisphere:\n",
    "        latitude = -latitude\n",
    "\n",
    "    longitude = ((zone > 0) and (6 * zone - 183.0) or 3.0) - _a3\n",
    "\n",
    "    return (latitude, longitude)"
   ]
  },
  {
   "cell_type": "code",
   "execution_count": null,
   "id": "parallel-tenant",
   "metadata": {},
   "outputs": [],
   "source": [
    "easting = pd.Series(wolf_data['Easting']).astype(float)\n",
    "northing = pd.Series(wolf_data['Northing']).astype(float)"
   ]
  },
  {
   "cell_type": "code",
   "execution_count": null,
   "id": "comparative-supply",
   "metadata": {},
   "outputs": [],
   "source": [
    "lat_long(12, easting.iloc[0], northing.iloc[0])"
   ]
  },
  {
   "cell_type": "code",
   "execution_count": null,
   "id": "military-template",
   "metadata": {},
   "outputs": [],
   "source": [
    "coors_full = list()\n",
    "for x in range (0,81712):\n",
    "    coors = lat_long(12, easting.iloc[x], northing.iloc[x])\n",
    "    coors_full.append(coors)\n",
    "\n",
    "    \n",
    "    "
   ]
  },
  {
   "cell_type": "code",
   "execution_count": null,
   "id": "pleasant-tuesday",
   "metadata": {},
   "outputs": [],
   "source": [
    "wolf_data['Coordinates'] = coors_full"
   ]
  },
  {
   "cell_type": "code",
   "execution_count": null,
   "id": "returning-intranet",
   "metadata": {},
   "outputs": [],
   "source": [
    "wolf_data.tail()"
   ]
  },
  {
   "cell_type": "code",
   "execution_count": null,
   "id": "congressional-reminder",
   "metadata": {},
   "outputs": [],
   "source": [
    "#wolf_data.to_csv('../data/wolf_data.csv', index = False)\n",
    " "
   ]
  },
  {
   "cell_type": "code",
   "execution_count": null,
   "id": "finished-truth",
   "metadata": {},
   "outputs": [],
   "source": [
    "coors_df = pd.DataFrame(coors_full)"
   ]
  },
  {
   "cell_type": "code",
   "execution_count": null,
   "id": "facial-toronto",
   "metadata": {},
   "outputs": [],
   "source": [
    "wolf_ids = wolf_data['Wolf_ID'].value_counts()\n",
    "wolf_ids.describe()"
   ]
  },
  {
   "cell_type": "code",
   "execution_count": null,
   "id": "backed-advice",
   "metadata": {},
   "outputs": [],
   "source": [
    "wolf_data_tab = pd.read_csv('../data/wolf_data_tabl.csv')"
   ]
  },
  {
   "cell_type": "code",
   "execution_count": null,
   "id": "specialized-damage",
   "metadata": {},
   "outputs": [],
   "source": [
    "wolf_data_geo = gpd.GeoDataFrame(wolf_data_tab, geometry=gpd.points_from_xy(wolf_data_tab.Longitude, wolf_data_tab.Latitude))"
   ]
  },
  {
   "cell_type": "code",
   "execution_count": null,
   "id": "modified-dealer",
   "metadata": {},
   "outputs": [],
   "source": [
    "wolf_data_geo.head(1)"
   ]
  },
  {
   "cell_type": "code",
   "execution_count": null,
   "id": "arbitrary-values",
   "metadata": {},
   "outputs": [],
   "source": [
    "wolf_data_geo.to_csv('../data/wolf_data_tab.csv', index = False)"
   ]
  },
  {
   "cell_type": "code",
   "execution_count": null,
   "id": "digital-pressing",
   "metadata": {},
   "outputs": [],
   "source": [
    "wolf_data_geo.plot()"
   ]
  },
  {
   "cell_type": "code",
   "execution_count": null,
   "id": "human-victory",
   "metadata": {},
   "outputs": [],
   "source": [
    "wolf_data_geo['geometry'].head()"
   ]
  },
  {
   "cell_type": "code",
   "execution_count": null,
   "id": "dependent-detroit",
   "metadata": {},
   "outputs": [],
   "source": [
    "wolf_data_geo.to_file('../data/wolf_data_tab.shp')"
   ]
  },
  {
   "cell_type": "code",
   "execution_count": null,
   "id": "educated-speaker",
   "metadata": {},
   "outputs": [],
   "source": [
    "wolf_data_shp = gpd.read_file('../data/wolf_data_tab.shp')\n",
    "wolf_data_shp.head()"
   ]
  },
  {
   "cell_type": "code",
   "execution_count": null,
   "id": "joint-greece",
   "metadata": {},
   "outputs": [],
   "source": [
    "wolf_data_distance = pd.read_csv('../data/wolf_data_tabl.csv')"
   ]
  },
  {
   "cell_type": "code",
   "execution_count": null,
   "id": "presidential-heath",
   "metadata": {},
   "outputs": [],
   "source": [
    "wolf_data_distance[['Wolf_ID','Latitude','Longitude']]"
   ]
  },
  {
   "cell_type": "code",
   "execution_count": null,
   "id": "enormous-delight",
   "metadata": {},
   "outputs": [],
   "source": [
    "wolf_data_distance_995F = wolf_data_distance[wolf_data_distance['Wolf_ID'] == '995F']\n",
    "type(wolf_data_distance_995F)\n",
    "wolf_data_distance_995F = wolf_data_distance_995F[['Wolf_ID','Latitude','Longitude', 'Northing', 'Easting']].reset_index()\n",
    "wolf_data_distance_995F.head()\n"
   ]
  },
  {
   "cell_type": "code",
   "execution_count": null,
   "id": "cubic-foundation",
   "metadata": {},
   "outputs": [],
   "source": [
    "def get_distance(lat_1, lng_1, lat_2, lng_2): \n",
    "    d_lat = lat_2 - lat_1\n",
    "    d_lng = lng_2 - lng_1 \n",
    "\n",
    "    temp = (  \n",
    "         math.sin(d_lat / 2) ** 2 \n",
    "       + math.cos(lat_1) \n",
    "       * math.cos(lat_2) \n",
    "       * math.sin(d_lng / 2) ** 2\n",
    "    )\n",
    "\n",
    "    return 6373.0 * (2 * math.atan2(math.sqrt(temp), math.sqrt(1 - temp))) * 0.6213712 "
   ]
  },
  {
   "cell_type": "code",
   "execution_count": null,
   "id": "fatal-olive",
   "metadata": {},
   "outputs": [],
   "source": [
    "# distance in Miles\n",
    "\n",
    "distance_full = []\n",
    "for x in range (0,844):\n",
    "    lat_1 = wolf_data_distance_995F.iloc[x,2]\n",
    "    lng_1 = wolf_data_distance_995F.iloc[x,3]\n",
    "    lat_2 = wolf_data_distance_995F.iloc[x+1,2]\n",
    "    lng_2 = wolf_data_distance_995F.iloc[x+1,3]\n",
    "    \n",
    "    lng_1, lat_1, lng_2, lat_2 = map(math.radians, [lng_1, lat_1, lng_2, lat_2])\n",
    "    \n",
    "    distance = get_distance(lat_1, lng_1, lat_2, lng_2)\n",
    "    distance_full.append(distance)\n",
    "\n",
    "sum(distance_full)"
   ]
  },
  {
   "cell_type": "code",
   "execution_count": null,
   "id": "central-emergency",
   "metadata": {
    "scrolled": true
   },
   "outputs": [],
   "source": [
    "get_distance(lat_1, lng_1, lat_2, lng_2)"
   ]
  },
  {
   "cell_type": "code",
   "execution_count": null,
   "id": "floppy-reggae",
   "metadata": {},
   "outputs": [],
   "source": [
    "wolf_data_distance_995F.iloc[549]\n"
   ]
  },
  {
   "cell_type": "code",
   "execution_count": null,
   "id": "postal-entry",
   "metadata": {},
   "outputs": [],
   "source": [
    "distance_lone = []\n",
    "for x in range (549,844):\n",
    "    lat_1 = wolf_data_distance_995F.iloc[x,2]\n",
    "    lng_1 = wolf_data_distance_995F.iloc[x,3]\n",
    "    lat_2 = wolf_data_distance_995F.iloc[x+1,2]\n",
    "    lng_2 = wolf_data_distance_995F.iloc[x+1,3]\n",
    "    \n",
    "    lng_1, lat_1, lng_2, lat_2 = map(math.radians, [lng_1, lat_1, lng_2, lat_2])\n",
    "    \n",
    "    distance = get_distance(lat_1, lng_1, lat_2, lng_2)\n",
    "    distance_lone.append(distance)\n",
    "\n",
    "sum(distance_lone)"
   ]
  },
  {
   "cell_type": "code",
   "execution_count": null,
   "id": "functioning-convenience",
   "metadata": {},
   "outputs": [],
   "source": []
  }
 ],
 "metadata": {
  "kernelspec": {
   "display_name": "Python 3",
   "language": "python",
   "name": "python3"
  },
  "language_info": {
   "codemirror_mode": {
    "name": "ipython",
    "version": 3
   },
   "file_extension": ".py",
   "mimetype": "text/x-python",
   "name": "python",
   "nbconvert_exporter": "python",
   "pygments_lexer": "ipython3",
   "version": "3.8.5"
  }
 },
 "nbformat": 4,
 "nbformat_minor": 5
}
